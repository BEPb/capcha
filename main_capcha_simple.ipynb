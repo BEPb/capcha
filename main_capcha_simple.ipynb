{
  "nbformat": 4,
  "nbformat_minor": 0,
  "metadata": {
    "colab": {
      "name": "Копия блокнота \"main_capcha.ipynb\"",
      "provenance": [],
      "collapsed_sections": [],
      "mount_file_id": "1NDHiooJcgVU3dVWCDCH_iqQEg7sKc-zp",
      "authorship_tag": "ABX9TyNaCQ68oH+Usw5U1ElW19cS",
      "include_colab_link": true
    },
    "kernelspec": {
      "name": "python3",
      "display_name": "Python 3"
    },
    "language_info": {
      "name": "python"
    }
  },
  "cells": [
    {
      "cell_type": "markdown",
      "metadata": {
        "id": "view-in-github",
        "colab_type": "text"
      },
      "source": [
        "<a href=\"https://colab.research.google.com/github/BEPb/capcha/blob/master/main_capcha_simple.ipynb\" target=\"_parent\"><img src=\"https://colab.research.google.com/assets/colab-badge.svg\" alt=\"Open In Colab\"/></a>"
      ]
    },
    {
      "cell_type": "markdown",
      "metadata": {
        "id": "egAAHZrDqXa_"
      },
      "source": [
        "# Файл тренировки нейронной сети python \n",
        "\n",
        "**Импорт** **данных**\n",
        "\n",
        "!git clone https://github.com/BEPb/capcha"
      ]
    },
    {
      "cell_type": "code",
      "metadata": {
        "colab": {
          "base_uri": "https://localhost:8080/"
        },
        "id": "5ZWDdPeYq3QA",
        "outputId": "b373f11d-629c-4ce1-bbc0-d969ac17ed9e"
      },
      "source": [
        "%cd /content/\n",
        "!pwd\n",
        "#!rm -r /content/capcha  # очистка перед клонированием\n",
        "\n",
        "!git clone https://github.com/BEPb/capcha\n",
        "#!ls"
      ],
      "execution_count": 103,
      "outputs": [
        {
          "output_type": "stream",
          "text": [
            "/content\n",
            "/content\n",
            "Cloning into 'capcha'...\n",
            "remote: Enumerating objects: 13827, done.\u001b[K\n",
            "remote: Counting objects: 100% (13827/13827), done.\u001b[K\n",
            "remote: Compressing objects: 100% (13791/13791), done.\u001b[K\n",
            "remote: Total 13827 (delta 46), reused 13813 (delta 34), pack-reused 0\u001b[K\n",
            "Receiving objects: 100% (13827/13827), 53.46 MiB | 33.42 MiB/s, done.\n",
            "Resolving deltas: 100% (46/46), done.\n"
          ],
          "name": "stdout"
        }
      ]
    },
    {
      "cell_type": "markdown",
      "metadata": {
        "id": "EeWj0kI86cet"
      },
      "source": [
        "Переходим в клонированную дирректорию\n",
        "content/capha"
      ]
    },
    {
      "cell_type": "code",
      "metadata": {
        "colab": {
          "base_uri": "https://localhost:8080/"
        },
        "id": "mT-FRvcb6rys",
        "outputId": "23fca6d8-973d-4630-e742-145760667eb1"
      },
      "source": [
        "!cd \n",
        "!pwd\n",
        "%cd /content/capcha/\n",
        "!pwd\n",
        "\n",
        "#import sys\n",
        "#sys.path.append('/content/capcha')\n",
        "#!pip3 install /content/capha/pyimagesearch/smallvggnet.py\n",
        "\n",
        "\n",
        "#import sys\n",
        "#sys.path.append('/content/capcha/pyimagesearch/')\n",
        "#%cd /content/capcha/pyimagesearch/\n",
        "#%load smallvggnet.py\n",
        "#%cd /content/capcha/\n",
        "\n",
        "!python main.py \\\n",
        "--dataset train \\\n",
        "--model output/smallvggnet.model \\\n",
        "--label-bin output/smallvggnet_lb.pickle \\\n",
        "--plot output/smallvggnet_plot.png\n",
        "\n",
        "\n",
        "#/content/capcha/capcha/pyimagesearch/smallvggnet.py"
      ],
      "execution_count": null,
      "outputs": [
        {
          "output_type": "stream",
          "text": [
            "/content\n",
            "/content/capcha\n",
            "/content/capcha\n",
            "2021-06-14 18:30:32.799866: I tensorflow/stream_executor/platform/default/dso_loader.cc:53] Successfully opened dynamic library libcudart.so.11.0\n",
            "3.7.10 (default, May  3 2021, 02:48:31) \n",
            "[GCC 7.5.0]\n",
            "2.5.0\n",
            "2021-06-14 18:30:34.804410: I tensorflow/stream_executor/platform/default/dso_loader.cc:53] Successfully opened dynamic library libcuda.so.1\n",
            "2021-06-14 18:30:34.815576: E tensorflow/stream_executor/cuda/cuda_driver.cc:328] failed call to cuInit: CUDA_ERROR_NO_DEVICE: no CUDA-capable device is detected\n",
            "2021-06-14 18:30:34.815632: I tensorflow/stream_executor/cuda/cuda_diagnostics.cc:156] kernel driver does not appear to be running on this host (bcba86176424): /proc/driver/nvidia/version does not exist\n",
            "[name: \"/device:CPU:0\"\n",
            "device_type: \"CPU\"\n",
            "memory_limit: 268435456\n",
            "locality {\n",
            "}\n",
            "incarnation: 4256893013361867678\n",
            "]\n",
            "2021-06-14 18:30:34.841651: I tensorflow/core/common_runtime/direct_session.cc:361] Device mapping: no known devices.\n",
            "['/device:CPU:0']\n",
            "[INFO] loading images...\n",
            "[INFO] training network...\n",
            "/usr/local/lib/python3.7/dist-packages/tensorflow/python/keras/optimizer_v2/optimizer_v2.py:375: UserWarning: The `lr` argument is deprecated, use `learning_rate` instead.\n",
            "  \"The `lr` argument is deprecated, use `learning_rate` instead.\")\n",
            "/usr/local/lib/python3.7/dist-packages/keras/engine/training.py:1915: UserWarning: `Model.fit_generator` is deprecated and will be removed in a future version. Please use `Model.fit`, which supports generators.\n",
            "  warnings.warn('`Model.fit_generator` is deprecated and '\n",
            "2021-06-14 18:30:37.057582: I tensorflow/compiler/mlir/mlir_graph_optimization_pass.cc:176] None of the MLIR Optimization Passes are enabled (registered 2)\n",
            "2021-06-14 18:30:37.058034: I tensorflow/core/platform/profile_utils/cpu_utils.cc:114] CPU Frequency: 2299995000 Hz\n",
            "Epoch 1/75\n",
            "320/320 [==============================] - 113s 296ms/step - loss: 3.1328 - accuracy: 0.1600 - val_loss: 2.5716 - val_accuracy: 0.2603\n",
            "Epoch 2/75\n",
            "320/320 [==============================] - 94s 294ms/step - loss: 2.1754 - accuracy: 0.3006 - val_loss: 2.1161 - val_accuracy: 0.3351\n",
            "Epoch 3/75\n",
            "320/320 [==============================] - 94s 292ms/step - loss: 1.6866 - accuracy: 0.4309 - val_loss: 1.1845 - val_accuracy: 0.5644\n",
            "Epoch 4/75\n",
            "320/320 [==============================] - 93s 292ms/step - loss: 1.4003 - accuracy: 0.5209 - val_loss: 1.1538 - val_accuracy: 0.5881\n",
            "Epoch 5/75\n",
            " 76/320 [======>.......................] - ETA: 1:05 - loss: 1.3246 - accuracy: 0.5364"
          ],
          "name": "stdout"
        }
      ]
    }
  ]
}